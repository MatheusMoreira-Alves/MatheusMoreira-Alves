import pandas as pd
dados = pd.read_csv("MICRODADOS.csv", sep=";", encoding="latin-1")
dados
DataNotificacao	DataCadastro	DataDiagnostico	DataColeta_RT_PCR	DataColetaTesteRapido	DataColetaSorologia	DataColetaSorologiaIGG	DataEncerramento	DataObito	Classificacao	...	ViagemBrasil	ViagemInternacional	ProfissionalSaude	PossuiDeficiencia	MoradorDeRua	ResultadoRT_PCR	ResultadoTesteRapido	ResultadoSorologia	ResultadoSorologia_IGG	TipoTesteRapido
0	2023-03-06	2023-03-06	2023-03-02	NaN	2023-03-06	NaN	NaN	2023-03-06	NaN	Descartados	...	Não	Não	Não	Não	Não	Não Informado	Negativo	Não Informado	Não Informado	Teste rápido Antígeno
1	2023-03-06	2023-03-03	2023-03-02	NaN	2023-03-06	NaN	NaN	2023-03-03	NaN	Descartados	...	Não	Não	Não	Não	Não	Não Informado	Negativo	Não Informado	Não Informado	Teste rápido Antígeno
2	2023-03-06	2023-03-06	2023-03-04	NaN	2023-03-06	NaN	NaN	2023-03-06	NaN	Descartados	...	Não	Não	Não	Não	Não	Não Informado	Negativo	Não Informado	Não Informado	Teste rápido Antígeno
3	2023-03-06	2023-03-06	2023-03-06	NaN	2023-03-06	NaN	NaN	2023-03-06	NaN	Descartados	...	Não	Não	Não	Não	Não	Não Informado	Negativo	Não Informado	Não Informado	Teste rápido Antígeno
4	2023-03-06	2023-03-06	2023-03-05	NaN	NaN	NaN	NaN	NaN	NaN	Suspeito	...	Não	Não	Sim	Não	Não	Não Informado	Não Informado	Não Informado	Não Informado	Não Informado
...	...	...	...	...	...	...	...	...	...	...	...	...	...	...	...	...	...	...	...	...	...
4724840	2020-02-27	2020-04-16	2020-02-15	2020-02-27	NaN	NaN	NaN	2020-04-16	NaN	Descartados	...	Não	Não	Não	Não Informado	Não Informado	Negativo	Não Informado	Não Informado	Não Informado	Não Informado
4724841	2020-02-27	2020-04-16	2020-02-15	2020-02-27	NaN	NaN	NaN	2020-04-16	NaN	Descartados	...	Não	Não	Não	Não Informado	Não Informado	Negativo	Não Informado	Não Informado	Não Informado	Não Informado
4724842	2020-02-27	2020-04-15	2020-02-25	2020-02-26	NaN	NaN	NaN	2020-04-15	NaN	Descartados	...	Não Informado	Sim	Não	Não Informado	Não Informado	Negativo	Não Informado	Não Informado	Não Informado	Não Informado
4724843	2020-02-25	2020-04-16	2020-02-13	2020-02-26	NaN	NaN	NaN	2020-04-16	2020-04-16	Descartados	...	Não	Sim	Não	Não	Não	Negativo	Não Informado	Não Informado	Não Informado	Não Informado
4724844	2020-01-23	2020-10-25	2020-01-20	NaN	2020-01-29	NaN	NaN	2020-10-29	NaN	Descartados	...	Ignorado	Não	Não	Não	Não	Não Informado	Negativo	Não Informado	Não Informado	Não Informado
4724845 rows × 45 columns

colunas = list(dados.columns)
colunas
['DataNotificacao',
 'DataCadastro',
 'DataDiagnostico',
 'DataColeta_RT_PCR',
 'DataColetaTesteRapido',
 'DataColetaSorologia',
 'DataColetaSorologiaIGG',
 'DataEncerramento',
 'DataObito',
 'Classificacao',
 'Evolucao',
 'CriterioConfirmacao',
 'StatusNotificacao',
 'Municipio',
 'Bairro',
 'FaixaEtaria',
 'IdadeNaDataNotificacao',
 'Sexo',
 'RacaCor',
 'Escolaridade',
 'Gestante',
 'Febre',
 'DificuldadeRespiratoria',
 'Tosse',
 'Coriza',
 'DorGarganta',
 'Diarreia',
 'Cefaleia',
 'ComorbidadePulmao',
 'ComorbidadeCardio',
 'ComorbidadeRenal',
 'ComorbidadeDiabetes',
 'ComorbidadeTabagismo',
 'ComorbidadeObesidade',
 'FicouInternado',
 'ViagemBrasil',
 'ViagemInternacional',
 'ProfissionalSaude',
 'PossuiDeficiencia',
 'MoradorDeRua',
 'ResultadoRT_PCR',
 'ResultadoTesteRapido',
 'ResultadoSorologia',
 'ResultadoSorologia_IGG',
 'TipoTesteRapido']
filtro_municipio = dados['Municipio'] == 'CARIACICA'
dados_cariacica = dados[filtro_municipio == True]
filtro_comorbidade = dados_cariacica['ComorbidadeTabagismo'] == 'Sim'
dados_cariacica_tabagismo = dados_cariacica[filtro_comorbidade]
dados_cariacica_tabagismo
DataNotificacao	DataCadastro	DataDiagnostico	DataColeta_RT_PCR	DataColetaTesteRapido	DataColetaSorologia	DataColetaSorologiaIGG	DataEncerramento	DataObito	Classificacao	...	ViagemBrasil	ViagemInternacional	ProfissionalSaude	PossuiDeficiencia	MoradorDeRua	ResultadoRT_PCR	ResultadoTesteRapido	ResultadoSorologia	ResultadoSorologia_IGG	TipoTesteRapido
1466	2023-03-05	2023-03-05	2023-02-27	NaN	2023-03-05	NaN	NaN	2023-03-06	NaN	Descartados	...	Não	Não	Não	Não	Não	Não Informado	Negativo	Não Informado	Não Informado	Teste rápido Antígeno
2076	2023-03-04	2023-03-04	2023-02-27	NaN	NaN	NaN	NaN	NaN	NaN	Suspeito	...	Não	Não	Não	Não	Não	Não Informado	Não Informado	Não Informado	Não Informado	Não Informado
2365	2023-03-04	2023-03-04	2023-03-02	2023-03-03	NaN	NaN	NaN	NaN	NaN	Suspeito	...	Não	Não	Não	Não	Não	Não Informado	Não Informado	Não Informado	Não Informado	Não Informado
3601	2023-03-03	2023-03-03	2023-03-01	NaN	2023-03-03	NaN	NaN	2023-03-03	NaN	Descartados	...	Não	Não	Não	Não	Não	Não Informado	Negativo	Não Informado	Não Informado	Teste rápido Antígeno
4544	2023-03-02	2023-03-02	2023-02-28	NaN	2023-03-02	NaN	NaN	NaN	NaN	Suspeito	...	Não	Não	Não	Não	Não	Não Informado	Negativo	Não Informado	Não Informado	Teste rápido Antígeno
...	...	...	...	...	...	...	...	...	...	...	...	...	...	...	...	...	...	...	...	...	...
4720984	2020-04-12	2020-04-12	2020-04-09	2020-04-11	NaN	NaN	NaN	2020-04-23	2020-02-04	Descartados	...	Não	Não	Não	Não	Não	Negativo	Não Informado	Não Informado	Não Informado	Não Informado
4721516	2020-04-09	2020-04-09	2020-03-31	2020-04-09	NaN	NaN	NaN	2020-04-23	NaN	Descartados	...	Não Informado	Não Informado	Não Informado	Não Informado	Não Informado	Negativo	Não Informado	Não Informado	Não Informado	Não Informado
4721653	2020-04-09	2020-04-09	2020-04-08	NaN	NaN	NaN	NaN	2020-07-30	NaN	Descartados	...	Não	Não	Não	Não	Não	Não Informado	Não Informado	Não Informado	Não Informado	Não Informado
4721902	2020-04-08	2020-04-08	2020-04-06	2020-04-08	NaN	NaN	NaN	2020-04-24	NaN	Descartados	...	Não	Não	Não Informado	Não Informado	Não Informado	Negativo	Não Informado	Não Informado	Não Informado	Não Informado
4722014	2020-04-08	2020-04-09	2020-04-07	2020-04-08	NaN	NaN	NaN	2020-07-30	NaN	Descartados	...	Não	Não	Ignorado	Não	Não	Negativo	Não Informado	Não Informado	Não Informado	Não Informado
4342 rows × 45 columns

 
