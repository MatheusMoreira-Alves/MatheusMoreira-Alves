import pandas as pd
dados = pd.read_csv("MICRODADOS.csv", sep=";", encoding="latin-1")
dados_selecionados = dados[((dados['Municipio'] == 'CARIACICA') & (dados['ComorbidadeTabagismo'] == 'Sim') & (dados['DataObito'].between('2020-01-01', '2023-12-31')) & (dados['Evolucao'] == 'Óbito pelo COVID-19'))]
dados_selecionados
DataNotificacao	DataCadastro	DataDiagnostico	DataColeta_RT_PCR	DataColetaTesteRapido	DataColetaSorologia	DataColetaSorologiaIGG	DataEncerramento	DataObito	Classificacao	...	ViagemBrasil	ViagemInternacional	ProfissionalSaude	PossuiDeficiencia	MoradorDeRua	ResultadoRT_PCR	ResultadoTesteRapido	ResultadoSorologia	ResultadoSorologia_IGG	TipoTesteRapido
89798	2022-12-29	2022-12-29	2022-12-27	NaN	2022-12-28	NaN	NaN	2023-01-11	2023-01-10	Confirmados	...	Ignorado	Ignorado	Ignorado	Não	Não	Não Informado	Positivo	Não Informado	Não Informado	Teste rápido Antígeno
657935	2022-07-13	2022-07-13	2022-07-12	2022-07-13	2022-07-13	NaN	NaN	2022-07-14	2022-07-14	Confirmados	...	Não	Não	Não	Não	Não	Positivo	Positivo	Não Informado	Não Informado	Teste rápido Antígeno
777868	2022-07-04	2022-07-04	2022-07-04	NaN	2022-01-21	NaN	NaN	2022-07-04	2022-01-23	Confirmados	...	Não	Não	Não	Não	Não	Não Informado	Positivo	Não Informado	Não Informado	Teste rápido Antígeno
792049	2022-07-04	2022-07-04	2022-07-04	2022-07-04	2022-07-04	NaN	NaN	2022-07-18	2022-07-15	Confirmados	...	Não	Não	Não	Não	Não	Negativo	Positivo	Não Informado	Não Informado	Teste rápido Antígeno
945621	2022-06-22	2022-06-22	2022-06-19	NaN	2022-06-21	NaN	NaN	2022-07-01	2022-06-29	Confirmados	...	Não	Não	Não	Não	Não	Não Informado	Positivo	Não Informado	Não Informado	Teste rápido Antígeno
...	...	...	...	...	...	...	...	...	...	...	...	...	...	...	...	...	...	...	...	...	...
4699848	2020-05-08	2020-05-08	2020-05-03	2020-05-08	2020-06-18	NaN	NaN	2020-06-20	2020-06-19	Confirmados	...	Não	Não	Não	Não	Não	Positivo	Positivo	Não Informado	Não Informado	Ignorado
4701039	2020-05-07	2020-05-08	2020-05-04	2020-05-07	NaN	NaN	NaN	2020-05-17	2020-05-08	Confirmados	...	Não	Não	Não	Não	Não	Positivo	Não Informado	Não Informado	Não Informado	Não Informado
4705728	2020-05-04	2020-05-04	2020-04-25	2020-05-05	2020-05-02	NaN	NaN	2020-05-19	2020-05-10	Confirmados	...	Não	Não	Não	Não	Não	Positivo	Negativo	Não Informado	Não Informado	Ignorado
4706214	2020-05-03	2020-05-03	2020-05-01	2020-05-02	2020-05-02	NaN	NaN	2020-05-05	2020-05-05	Confirmados	...	Não	Não	Não	Não	Não	Negativo	Negativo	Não Informado	Não Informado	Ignorado
4716255	2020-04-20	2020-04-20	2020-04-13	2020-04-20	NaN	NaN	NaN	2020-04-21	2020-04-21	Confirmados	...	Ignorado	Não Informado	Ignorado	Não	Não	Positivo	Não Informado	Não Informado	Não Informado	Não Informado
73 rows × 45 columns

porcentagem_selecionados = (dados_selecionados.shape[0]/dados.shape[0])*100
Dados
Porcentagem das pessoas que morreram de covid-19 de 2020 a 2023, que fumavam e moravam na cidade de Cariacica. {{porcentagem_selecionados}}
